{
 "cells": [
  {
   "cell_type": "markdown",
   "source": [
    "# Analysis on the effects of modeling and training decisions for greener computer vision systems\n",
    "\n",
    "Author: Santiago del Rey"
   ],
   "metadata": {
    "collapsed": false
   }
  },
  {
   "cell_type": "markdown",
   "source": [
    "## Import libraries"
   ],
   "metadata": {
    "collapsed": false
   }
  },
  {
   "cell_type": "code",
   "execution_count": 126,
   "outputs": [],
   "source": [
    "import os\n",
    "\n",
    "import matplotlib as mlp\n",
    "import matplotlib.pyplot as plt\n",
    "import numpy as np\n",
    "import pandas as pd\n",
    "import scikit_posthocs as sp\n",
    "import seaborn as sns\n",
    "import statsmodels.api as sm\n",
    "import statsmodels.stats.multicomp as mc\n",
    "from cliffs_delta import cliffs_delta\n",
    "from scipy import stats\n",
    "from statsmodels.formula.api import ols\n",
    "\n",
    "from environment import FIGURES_DIR, OUTPUT_DIR, DATA_DIR\n",
    "\n",
    "%matplotlib inline\n",
    "\n",
    "mlp.rcParams[\"font.family\"] = \"serif\"\n",
    "mlp.rcParams[\"font.serif\"] = \"Times New Roman\"\n",
    "mlp.rcParams[\"font.size\"] = 8\n",
    "mlp.rcParams[\"figure.autolayout\"] = \"true\"\n",
    "\n",
    "SAVE_FIGS = True"
   ],
   "metadata": {
    "collapsed": false
   }
  },
  {
   "cell_type": "markdown",
   "source": [
    "## Load the dataset"
   ],
   "metadata": {
    "collapsed": false
   }
  },
  {
   "cell_type": "code",
   "execution_count": 127,
   "outputs": [
    {
     "data": {
      "text/plain": "  training strategy  architecture  run  training duration (h)  \\\n0             cloud  mobilenet_v2    0               0.735028   \n1             cloud  mobilenet_v2    1               0.795914   \n2             cloud  mobilenet_v2    2               0.471948   \n3             cloud  mobilenet_v2    3               0.634343   \n4             cloud  mobilenet_v2    4               0.662703   \n\n   gpu working time (h)  gpu usage  gpu memory working time (h)  \\\n0              0.168906   0.229977                     0.061694   \n1              0.182600   0.229605                     0.066108   \n2              0.105261   0.223168                     0.038169   \n3              0.144261   0.227581                     0.052850   \n4              0.150069   0.226615                     0.053986   \n\n   gpu memory usage  average memory used (MB)  memory used std (MB)  \\\n0          0.084002              23648.752648             24.982796   \n1          0.083126              23657.000000              0.000000   \n2          0.080925              23657.000000              0.000000   \n3          0.083374              23657.000000              0.000000   \n4          0.081523              23657.000000              0.000000   \n\n   total power (W)  average temperature (Celsius)  temperature std (Celsius)  \\\n0         414928.0                      54.269667                   1.831817   \n1         439203.0                      53.764932                   2.649763   \n2         255348.0                      53.304476                   3.203525   \n3         357267.0                      54.024540                   3.030651   \n4         356879.0                      53.420721                   2.745386   \n\n   energy (GJ)  emissions (tCO2e)    GFLOPs  accuracy  precision    recall  \\\n0     1.097942           0.070756  0.064028  0.975629   0.959826  0.993169   \n1     1.258444           0.081100  0.064028  0.971108   0.957560  0.986339   \n2     0.433840           0.027959  0.064028  0.960397   0.956488  0.965262   \n3     0.815867           0.052578  0.064028  0.974941   0.962921  0.988290   \n4     0.851418           0.054869  0.064028  0.968553   0.957524  0.981070   \n\n        AUC  \n0  0.995675  \n1  0.992465  \n2  0.987073  \n3  0.994777  \n4  0.990629  ",
      "text/html": "<div>\n<style scoped>\n    .dataframe tbody tr th:only-of-type {\n        vertical-align: middle;\n    }\n\n    .dataframe tbody tr th {\n        vertical-align: top;\n    }\n\n    .dataframe thead th {\n        text-align: right;\n    }\n</style>\n<table border=\"1\" class=\"dataframe\">\n  <thead>\n    <tr style=\"text-align: right;\">\n      <th></th>\n      <th>training strategy</th>\n      <th>architecture</th>\n      <th>run</th>\n      <th>training duration (h)</th>\n      <th>gpu working time (h)</th>\n      <th>gpu usage</th>\n      <th>gpu memory working time (h)</th>\n      <th>gpu memory usage</th>\n      <th>average memory used (MB)</th>\n      <th>memory used std (MB)</th>\n      <th>total power (W)</th>\n      <th>average temperature (Celsius)</th>\n      <th>temperature std (Celsius)</th>\n      <th>energy (GJ)</th>\n      <th>emissions (tCO2e)</th>\n      <th>GFLOPs</th>\n      <th>accuracy</th>\n      <th>precision</th>\n      <th>recall</th>\n      <th>AUC</th>\n    </tr>\n  </thead>\n  <tbody>\n    <tr>\n      <th>0</th>\n      <td>cloud</td>\n      <td>mobilenet_v2</td>\n      <td>0</td>\n      <td>0.735028</td>\n      <td>0.168906</td>\n      <td>0.229977</td>\n      <td>0.061694</td>\n      <td>0.084002</td>\n      <td>23648.752648</td>\n      <td>24.982796</td>\n      <td>414928.0</td>\n      <td>54.269667</td>\n      <td>1.831817</td>\n      <td>1.097942</td>\n      <td>0.070756</td>\n      <td>0.064028</td>\n      <td>0.975629</td>\n      <td>0.959826</td>\n      <td>0.993169</td>\n      <td>0.995675</td>\n    </tr>\n    <tr>\n      <th>1</th>\n      <td>cloud</td>\n      <td>mobilenet_v2</td>\n      <td>1</td>\n      <td>0.795914</td>\n      <td>0.182600</td>\n      <td>0.229605</td>\n      <td>0.066108</td>\n      <td>0.083126</td>\n      <td>23657.000000</td>\n      <td>0.000000</td>\n      <td>439203.0</td>\n      <td>53.764932</td>\n      <td>2.649763</td>\n      <td>1.258444</td>\n      <td>0.081100</td>\n      <td>0.064028</td>\n      <td>0.971108</td>\n      <td>0.957560</td>\n      <td>0.986339</td>\n      <td>0.992465</td>\n    </tr>\n    <tr>\n      <th>2</th>\n      <td>cloud</td>\n      <td>mobilenet_v2</td>\n      <td>2</td>\n      <td>0.471948</td>\n      <td>0.105261</td>\n      <td>0.223168</td>\n      <td>0.038169</td>\n      <td>0.080925</td>\n      <td>23657.000000</td>\n      <td>0.000000</td>\n      <td>255348.0</td>\n      <td>53.304476</td>\n      <td>3.203525</td>\n      <td>0.433840</td>\n      <td>0.027959</td>\n      <td>0.064028</td>\n      <td>0.960397</td>\n      <td>0.956488</td>\n      <td>0.965262</td>\n      <td>0.987073</td>\n    </tr>\n    <tr>\n      <th>3</th>\n      <td>cloud</td>\n      <td>mobilenet_v2</td>\n      <td>3</td>\n      <td>0.634343</td>\n      <td>0.144261</td>\n      <td>0.227581</td>\n      <td>0.052850</td>\n      <td>0.083374</td>\n      <td>23657.000000</td>\n      <td>0.000000</td>\n      <td>357267.0</td>\n      <td>54.024540</td>\n      <td>3.030651</td>\n      <td>0.815867</td>\n      <td>0.052578</td>\n      <td>0.064028</td>\n      <td>0.974941</td>\n      <td>0.962921</td>\n      <td>0.988290</td>\n      <td>0.994777</td>\n    </tr>\n    <tr>\n      <th>4</th>\n      <td>cloud</td>\n      <td>mobilenet_v2</td>\n      <td>4</td>\n      <td>0.662703</td>\n      <td>0.150069</td>\n      <td>0.226615</td>\n      <td>0.053986</td>\n      <td>0.081523</td>\n      <td>23657.000000</td>\n      <td>0.000000</td>\n      <td>356879.0</td>\n      <td>53.420721</td>\n      <td>2.745386</td>\n      <td>0.851418</td>\n      <td>0.054869</td>\n      <td>0.064028</td>\n      <td>0.968553</td>\n      <td>0.957524</td>\n      <td>0.981070</td>\n      <td>0.990629</td>\n    </tr>\n  </tbody>\n</table>\n</div>"
     },
     "execution_count": 127,
     "metadata": {},
     "output_type": "execute_result"
    }
   ],
   "source": [
    "analysis_df = pd.read_parquet(\n",
    "    os.path.join(DATA_DIR, \"processed\", \"dl-training-energy-consumption-dataset.gzip\")\n",
    ")\n",
    "analysis_df.head()"
   ],
   "metadata": {
    "collapsed": false
   }
  },
  {
   "cell_type": "code",
   "execution_count": 128,
   "outputs": [
    {
     "data": {
      "text/plain": "  training strategy   architecture     training duration (h) gpu usage  \\\n                                                        mean      mean   \n0             cloud   mobilenet_v2 0 days 00:37:45.371067600  0.226009   \n1             cloud  nasnet_mobile    0 days 01:09:49.449600  0.412231   \n2             cloud       xception 0 days 00:52:02.951565600  0.595662   \n3             local   mobilenet_v2 0 days 02:01:43.916332800  0.944144   \n4             local  nasnet_mobile 0 days 08:19:16.989632400  0.962019   \n5          local-v2   mobilenet_v2 0 days 00:25:25.597732800  0.561335   \n\n  energy (GJ)           emissions (tCO2e)    GFLOPs  accuracy            \n         mean       std              mean      mean      mean       std  \n0    0.827987  0.446579          0.053359  0.064028  0.940651  0.068609  \n1    3.491154  0.986628          0.224986  0.371647  0.975780  0.001003  \n2    2.658450  0.801931          0.171322  2.958404  0.984011  0.001315  \n3    1.655734  1.024809          0.106703  0.064028  0.949620  0.058820  \n4   25.638382  6.996514          1.652253  0.371647  0.976818  0.001040  \n5    0.326644  0.227251          0.021050  0.064028  0.948909  0.067368  ",
      "text/html": "<div>\n<style scoped>\n    .dataframe tbody tr th:only-of-type {\n        vertical-align: middle;\n    }\n\n    .dataframe tbody tr th {\n        vertical-align: top;\n    }\n\n    .dataframe thead tr th {\n        text-align: left;\n    }\n</style>\n<table border=\"1\" class=\"dataframe\">\n  <thead>\n    <tr>\n      <th></th>\n      <th>training strategy</th>\n      <th>architecture</th>\n      <th>training duration (h)</th>\n      <th>gpu usage</th>\n      <th colspan=\"2\" halign=\"left\">energy (GJ)</th>\n      <th>emissions (tCO2e)</th>\n      <th>GFLOPs</th>\n      <th colspan=\"2\" halign=\"left\">accuracy</th>\n    </tr>\n    <tr>\n      <th></th>\n      <th></th>\n      <th></th>\n      <th>mean</th>\n      <th>mean</th>\n      <th>mean</th>\n      <th>std</th>\n      <th>mean</th>\n      <th>mean</th>\n      <th>mean</th>\n      <th>std</th>\n    </tr>\n  </thead>\n  <tbody>\n    <tr>\n      <th>0</th>\n      <td>cloud</td>\n      <td>mobilenet_v2</td>\n      <td>0 days 00:37:45.371067600</td>\n      <td>0.226009</td>\n      <td>0.827987</td>\n      <td>0.446579</td>\n      <td>0.053359</td>\n      <td>0.064028</td>\n      <td>0.940651</td>\n      <td>0.068609</td>\n    </tr>\n    <tr>\n      <th>1</th>\n      <td>cloud</td>\n      <td>nasnet_mobile</td>\n      <td>0 days 01:09:49.449600</td>\n      <td>0.412231</td>\n      <td>3.491154</td>\n      <td>0.986628</td>\n      <td>0.224986</td>\n      <td>0.371647</td>\n      <td>0.975780</td>\n      <td>0.001003</td>\n    </tr>\n    <tr>\n      <th>2</th>\n      <td>cloud</td>\n      <td>xception</td>\n      <td>0 days 00:52:02.951565600</td>\n      <td>0.595662</td>\n      <td>2.658450</td>\n      <td>0.801931</td>\n      <td>0.171322</td>\n      <td>2.958404</td>\n      <td>0.984011</td>\n      <td>0.001315</td>\n    </tr>\n    <tr>\n      <th>3</th>\n      <td>local</td>\n      <td>mobilenet_v2</td>\n      <td>0 days 02:01:43.916332800</td>\n      <td>0.944144</td>\n      <td>1.655734</td>\n      <td>1.024809</td>\n      <td>0.106703</td>\n      <td>0.064028</td>\n      <td>0.949620</td>\n      <td>0.058820</td>\n    </tr>\n    <tr>\n      <th>4</th>\n      <td>local</td>\n      <td>nasnet_mobile</td>\n      <td>0 days 08:19:16.989632400</td>\n      <td>0.962019</td>\n      <td>25.638382</td>\n      <td>6.996514</td>\n      <td>1.652253</td>\n      <td>0.371647</td>\n      <td>0.976818</td>\n      <td>0.001040</td>\n    </tr>\n    <tr>\n      <th>5</th>\n      <td>local-v2</td>\n      <td>mobilenet_v2</td>\n      <td>0 days 00:25:25.597732800</td>\n      <td>0.561335</td>\n      <td>0.326644</td>\n      <td>0.227251</td>\n      <td>0.021050</td>\n      <td>0.064028</td>\n      <td>0.948909</td>\n      <td>0.067368</td>\n    </tr>\n  </tbody>\n</table>\n</div>"
     },
     "execution_count": 128,
     "metadata": {},
     "output_type": "execute_result"
    }
   ],
   "source": [
    "agg_data = analysis_df.groupby(\n",
    "    [\"training strategy\", \"architecture\"], as_index=False\n",
    ").agg(\n",
    "    {\n",
    "        \"training duration (h)\": np.mean,\n",
    "        \"gpu usage\": np.mean,\n",
    "        \"energy (GJ)\": [np.mean, np.std],\n",
    "        \"emissions (tCO2e)\": [np.mean],\n",
    "        \"GFLOPs\": np.mean,\n",
    "        \"accuracy\": [np.mean, np.std],\n",
    "    }\n",
    ")\n",
    "\n",
    "agg_data[(\"training duration (h)\", \"mean\")] = pd.to_timedelta(\n",
    "    agg_data[(\"training duration (h)\", \"mean\")], unit=\"hours\"\n",
    ")\n",
    "s = (\n",
    "    agg_data.style.hide(axis=\"index\")\n",
    "    .highlight_max(\n",
    "        subset=[(\"gpu usage\", \"mean\"), (\"accuracy\", \"mean\")],\n",
    "        props=\"textbf: --rwrap\",\n",
    "        axis=0,\n",
    "    )\n",
    "    .highlight_min(\n",
    "        subset=[\n",
    "            (\"training duration (h)\", \"mean\"),\n",
    "            (\"energy (GJ)\", \"mean\"),\n",
    "            (\"emissions (tCO2e)\", \"mean\"),\n",
    "        ],\n",
    "        props=\"textbf: --rwrap\",\n",
    "        axis=0,\n",
    "    )\n",
    "    .format(\n",
    "        {(\"gpu usage\", \"mean\"): lambda x: str(round(x * 100, 3)) + \" \\%\"}, precision=3\n",
    "    )\n",
    ")\n",
    "agg_data"
   ],
   "metadata": {
    "collapsed": false
   }
  },
  {
   "cell_type": "markdown",
   "source": [
    "## Data analysis"
   ],
   "metadata": {
    "collapsed": false
   }
  },
  {
   "cell_type": "code",
   "execution_count": 129,
   "outputs": [],
   "source": [
    "ARCHITECTURES = [\"mobilenet_v2\", \"nasnet_mobile\", \"xception\"]\n",
    "TRAIN_STRATEGIES = [\"cloud\", \"local\"]\n",
    "\n",
    "analysis_df.rename(\n",
    "    columns={\n",
    "        \"energy (GJ)\": \"energy\",\n",
    "        \"gpu usage\": \"gpu_usage\",\n",
    "        \"average temperature (Celsius)\": \"temperature\",\n",
    "        \"greenness score\": \"score\",\n",
    "    },\n",
    "    inplace=True,\n",
    ")"
   ],
   "metadata": {
    "collapsed": false
   }
  },
  {
   "cell_type": "code",
   "execution_count": 130,
   "outputs": [],
   "source": [
    "def test_normality(x, group=None):\n",
    "    result = stats.shapiro(x)\n",
    "    normalized_x = (x - np.mean(x)) / np.std(x)\n",
    "    if group is None:\n",
    "        print(f\"Shapiro test for normality: W = {result[0]} and p-value {result[1]}\")\n",
    "        _, ax = plt.subplots(1, 1, figsize=(5, 5))\n",
    "        sm.qqplot(normalized_x, line=\"45\", ax=ax)\n",
    "        plt.show()\n",
    "    else:\n",
    "        print(\n",
    "            f\"Shapiro test for normality of group {group}: W = {result[0]} and p-value {result[1]}\"\n",
    "        )\n",
    "        _, ax = plt.subplots(1, 1, figsize=(5, 5))\n",
    "        sm.qqplot(normalized_x, line=\"45\", ax=ax)\n",
    "        ax.set_title(f\"Q-Q plot for group {group}\")\n",
    "        plt.show()\n",
    "    return result\n",
    "\n",
    "\n",
    "def test_assumptions(*args):\n",
    "    if len(args) < 2:\n",
    "        return test_normality(args)\n",
    "    args = [np.asarray(arg) for arg in args]\n",
    "    for i, arg in enumerate(args):\n",
    "        if arg.ndim != 1:\n",
    "            raise ValueError(\"Input samples must be one-dimensional.\")\n",
    "        if arg.size <= 1:\n",
    "            raise ValueError(\"Input sample size must be greater than one.\")\n",
    "        if np.isinf(arg).any():\n",
    "            raise ValueError(\"Input samples must be finite.\")\n",
    "        test_normality(arg, i)\n",
    "\n",
    "    result = stats.levene(*args)\n",
    "    print(f\"Levene test for equal variances: W = {result[0]} and p-value = {result[1]}\")"
   ],
   "metadata": {
    "collapsed": false
   }
  },
  {
   "cell_type": "code",
   "execution_count": 131,
   "outputs": [],
   "source": [
    "def boxplot(\n",
    "    data,\n",
    "    x: str = None,\n",
    "    y: str = None,\n",
    "    xlabel=None,\n",
    "    ylabel=None,\n",
    "    figname=None,\n",
    "    figsize=(5, 5),\n",
    "):\n",
    "    fig = plt.figure(figsize=figsize)\n",
    "    ax = fig.add_subplot(111)\n",
    "    sns.boxplot(data, x=x, y=y, ax=ax)\n",
    "    ax.yaxis.grid(True)\n",
    "    ax.set_xlabel(xlabel)\n",
    "    ax.set_ylabel(ylabel)\n",
    "    if figname is not None and SAVE_FIGS:\n",
    "        plt.savefig(os.path.join(FIGURES_DIR, figname))"
   ],
   "metadata": {
    "collapsed": false
   }
  },
  {
   "cell_type": "code",
   "execution_count": 132,
   "outputs": [],
   "source": [
    "def barplot(\n",
    "    data,\n",
    "    x=None,\n",
    "    y=None,\n",
    "    xlabel=None,\n",
    "    ylabel=None,\n",
    "    hue=None,\n",
    "    errorbar=None,\n",
    "    estimator=\"mean\",\n",
    "    figname=None,\n",
    "    figsize=(5, 5),\n",
    "    barlabel=False,\n",
    "):\n",
    "    fig = plt.figure(figsize=figsize)\n",
    "    ax = fig.add_subplot(111)\n",
    "    ax = sns.barplot(\n",
    "        data,\n",
    "        x=x,\n",
    "        y=y,\n",
    "        ax=ax,\n",
    "        hue=hue,\n",
    "        errorbar=errorbar,\n",
    "        errwidth=3,\n",
    "        estimator=estimator,\n",
    "    )\n",
    "    ax.yaxis.grid(True)\n",
    "    ax.set_xlabel(xlabel)\n",
    "    ax.set_ylabel(ylabel)\n",
    "\n",
    "    if barlabel:\n",
    "        for container in ax.containers:\n",
    "            ax.bar_label(container, fmt=\"%.2f\")\n",
    "\n",
    "    if figname is not None and SAVE_FIGS:\n",
    "        plt.savefig(os.path.join(FIGURES_DIR, figname))\n",
    "    return fig, ax"
   ],
   "metadata": {
    "collapsed": false
   }
  },
  {
   "cell_type": "code",
   "execution_count": 134,
   "outputs": [
    {
     "data": {
      "text/plain": "<Figure size 1000x500 with 2 Axes>",
      "image/png": "[encoded data removed]"
     },
     "metadata": {},
     "output_type": "display_data"
    }
   ],
   "source": [
    "fig, (ax1, ax2) = plt.subplots(1,2, figsize=(10, 5))\n",
    "cloud_df = analysis_df.query(\"`training strategy` == 'cloud'\")\n",
    "ax = sns.barplot(cloud_df, x=\"architecture\", y=\"energy\", errorbar=None, estimator=\"median\", ax=ax1)\n",
    "ax.yaxis.grid(True)\n",
    "ax.set_xlabel(\"Model architecture\")\n",
    "ax.set_ylabel(\"Energy (GJ)\")\n",
    "\n",
    "for container in ax.containers:\n",
    "    ax.bar_label(container, fmt=\"%.2f\")\n",
    "\n",
    "ax = sns.barplot(cloud_df, x=\"architecture\", y=\"gpu_usage\", errorbar=None, estimator=\"median\", ax=ax2)\n",
    "ax.yaxis.grid(True)\n",
    "ax.set_xlabel(\"Model architecture\")\n",
    "ax.set_ylabel(\"GPU usage\")\n",
    "\n",
    "for container in ax.containers:\n",
    "    ax.bar_label(container, fmt=\"%.2f\")\n",
    "\n",
    "if SAVE_FIGS:\n",
    "    plt.savefig(os.path.join(FIGURES_DIR, \"cloud-energy-comparison.eps\"))"
   ],
   "metadata": {
    "collapsed": false
   }
  },
  {
   "cell_type": "code",
   "execution_count": null,
   "outputs": [],
   "source": [
    "_, ax = barplot(\n",
    "    analysis_df.query(\"`training strategy` != 'local-v2'\"),\n",
    "    x=\"architecture\",\n",
    "    y=\"energy\",\n",
    "    hue=\"training strategy\",\n",
    "    estimator=\"median\",\n",
    "    xlabel=\"Model architecture\",\n",
    "    ylabel=\"Energy (GJ)\",\n",
    "    barlabel=True,\n",
    ")\n",
    "ax.legend(title=\"Training strategy\")\n",
    "if SAVE_FIGS:\n",
    "    plt.savefig(os.path.join(FIGURES_DIR, \"energy-comparison.eps\"))"
   ],
   "metadata": {
    "collapsed": false
   }
  },
  {
   "cell_type": "code",
   "execution_count": null,
   "outputs": [],
   "source": [
    "_, ax = barplot(\n",
    "    analysis_df.query(\"`training strategy` != 'local-v2'\"),\n",
    "    x=\"architecture\",\n",
    "    y=\"accuracy\",\n",
    "    xlabel=\"Model architecture\",\n",
    "    ylabel=\"Accuracy\",\n",
    "    estimator=\"median\",\n",
    "    barlabel=True,\n",
    ")\n",
    "if SAVE_FIGS:\n",
    "    plt.savefig(os.path.join(FIGURES_DIR, \"accuracy-comparison.eps\"))"
   ],
   "metadata": {
    "collapsed": false
   }
  },
  {
   "cell_type": "markdown",
   "source": [
    "#### Test normality and variance homogeneity for the dependent variables\n",
    "##### Temperature\n",
    "###### Cloud"
   ],
   "metadata": {
    "collapsed": false
   }
  },
  {
   "cell_type": "code",
   "execution_count": null,
   "outputs": [],
   "source": [
    "cloud_mobilenet = analysis_df.query(\n",
    "    \"`training strategy` == 'cloud' & `architecture` == 'mobilenet_v2'\"\n",
    ")\n",
    "local_mobilenet = analysis_df.query(\n",
    "    \"`training strategy` == 'local' & `architecture` == 'mobilenet_v2'\"\n",
    ")\n",
    "cloud_nasnet = analysis_df.query(\n",
    "    \"`training strategy` == 'cloud' & `architecture` == 'nasnet_mobile'\"\n",
    ")\n",
    "local_nasnet = analysis_df.query(\n",
    "    \"`training strategy` == 'local' & `architecture` == 'nasnet_mobile'\"\n",
    ")\n",
    "cloud_xception = analysis_df.query(\n",
    "    \"`training strategy` == 'cloud' & `architecture` == 'xception'\"\n",
    ")"
   ],
   "metadata": {
    "collapsed": false
   }
  },
  {
   "cell_type": "markdown",
   "source": [
    "Now we test the normality and homogeneity of variance of the temperature in the cloud architecture. The results show that the NASNet measurements of temperature are not normally distributed. Also, the homogeneity of variance is not met."
   ],
   "metadata": {
    "collapsed": false
   }
  },
  {
   "cell_type": "code",
   "execution_count": null,
   "outputs": [],
   "source": [
    "test_assumptions(\n",
    "    cloud_mobilenet[\"temperature\"],\n",
    "    cloud_nasnet[\"temperature\"],\n",
    "    cloud_xception[\"temperature\"],\n",
    ")"
   ],
   "metadata": {
    "collapsed": false
   }
  },
  {
   "cell_type": "markdown",
   "source": [
    "If we look at the boxplots, we observe that the NASNet architecture has some extreme outliers. Thus, we proceed to remove them."
   ],
   "metadata": {
    "collapsed": false
   }
  },
  {
   "cell_type": "code",
   "execution_count": null,
   "outputs": [],
   "source": [
    "boxplot(\n",
    "    pd.concat([cloud_mobilenet, cloud_nasnet, cloud_xception]),\n",
    "    x=\"architecture\",\n",
    "    y=\"temperature\",\n",
    "    xlabel=\"Model architecture\",\n",
    "    ylabel=\"Temperature (Celsius)\",\n",
    "    figname=\"cloud-temp-boxplot.eps\",\n",
    ")"
   ],
   "metadata": {
    "collapsed": false
   }
  },
  {
   "cell_type": "markdown",
   "source": [
    "Looking at the temperatures from the NASNet architecture we observe that most of the values fall between 54 and 55 Celsius. Seeing this, we decide to remove the four samples that exceed this range."
   ],
   "metadata": {
    "collapsed": false
   }
  },
  {
   "cell_type": "code",
   "execution_count": null,
   "outputs": [],
   "source": [
    "print(cloud_nasnet[\"temperature\"].describe())\n",
    "cloud_nasnet[\"temperature\"].sort_values(ascending=False)"
   ],
   "metadata": {
    "collapsed": false
   }
  },
  {
   "cell_type": "code",
   "execution_count": null,
   "outputs": [],
   "source": [
    "cloud_nasnet_no_temp_outliers = cloud_nasnet.query(f\"temperature < 56\")\n",
    "print(\"Samples removed:\", 30 - cloud_nasnet_no_temp_outliers.shape[0])"
   ],
   "metadata": {
    "collapsed": false
   }
  },
  {
   "cell_type": "markdown",
   "source": [
    "If we repeat the assumption check without the outliers, we see how the three goups are now normally distributed. However, we still do not met the homogeneity of variance assumption."
   ],
   "metadata": {
    "collapsed": false
   }
  },
  {
   "cell_type": "code",
   "execution_count": null,
   "outputs": [],
   "source": [
    "test_assumptions(\n",
    "    cloud_mobilenet[\"temperature\"],\n",
    "    cloud_nasnet_no_temp_outliers[\"temperature\"],\n",
    "    cloud_xception[\"temperature\"],\n",
    ")"
   ],
   "metadata": {
    "collapsed": false
   }
  },
  {
   "cell_type": "code",
   "execution_count": null,
   "outputs": [],
   "source": [
    "boxplot(\n",
    "    pd.concat([cloud_mobilenet, cloud_nasnet_no_temp_outliers, cloud_xception]),\n",
    "    x=\"architecture\",\n",
    "    y=\"temperature\",\n",
    "    xlabel=\"Model architecture\",\n",
    "    ylabel=\"Temperature (Celsius)\",\n",
    "    figname=\"cloud-temp-boxplot-noout.eps\",\n",
    ")"
   ],
   "metadata": {
    "collapsed": false
   }
  },
  {
   "cell_type": "markdown",
   "source": [
    "###### Local\n",
    "Now, we check the assumptions for the local training architecture. We observe that the MobileNet V2 architecture does not follow a normal distribution. Also, the homogeneity of variance assumption is met in this case. In this case, we do not observe any outliers in the data."
   ],
   "metadata": {
    "collapsed": false
   }
  },
  {
   "cell_type": "code",
   "execution_count": null,
   "outputs": [],
   "source": [
    "test_assumptions(local_mobilenet.temperature, local_nasnet.temperature)"
   ],
   "metadata": {
    "collapsed": false
   }
  },
  {
   "cell_type": "code",
   "execution_count": null,
   "outputs": [],
   "source": [
    "boxplot(\n",
    "    pd.concat([local_mobilenet, local_nasnet]),\n",
    "    x=\"architecture\",\n",
    "    y=\"temperature\",\n",
    "    xlabel=\"Model architecture\",\n",
    "    ylabel=\"Temperature (Celsius)\",\n",
    "    figname=\"local-temp-boxplot.eps\",\n",
    ")"
   ],
   "metadata": {
    "collapsed": false
   }
  },
  {
   "cell_type": "markdown",
   "source": [
    "##### Impact of temperature on energy consumption"
   ],
   "metadata": {
    "collapsed": false
   }
  },
  {
   "cell_type": "code",
   "execution_count": null,
   "outputs": [],
   "source": [
    "temp_vs_energy_df = pd.concat(\n",
    "    [cloud_mobilenet, cloud_nasnet, cloud_xception, local_mobilenet, local_nasnet]\n",
    ")\n",
    "\n",
    "temp_vs_energy_df[\"combinations\"] = (\n",
    "    temp_vs_energy_df[\"training strategy\"] + \" \" + temp_vs_energy_df[\"architecture\"]\n",
    ")"
   ],
   "metadata": {
    "collapsed": false
   }
  },
  {
   "cell_type": "code",
   "execution_count": null,
   "outputs": [],
   "source": [
    "_, axes = plt.subplots(1, 1, figsize=(5, 5))\n",
    "ax = sns.scatterplot(\n",
    "    temp_vs_energy_df, x=\"temperature\", y=\"energy\", ax=axes, hue=\"combinations\"\n",
    ")\n",
    "ax.set_title(\"Temperature vs. Energy\")\n",
    "ax.set_xlabel(\"Temperature (Celsius)\")\n",
    "ax.set_ylabel(\"Energy (GJ)\")\n",
    "\n",
    "if SAVE_FIGS:\n",
    "    plt.savefig(os.path.join(FIGURES_DIR, \"temperature-energy-scatter.eps\"))"
   ],
   "metadata": {
    "collapsed": false
   }
  },
  {
   "cell_type": "code",
   "execution_count": null,
   "outputs": [],
   "source": [
    "cloud_df = temp_vs_energy_df.query(\"`training strategy` == 'cloud'\")\n",
    "test_assumptions(cloud_df[\"temperature\"], cloud_df[\"energy\"])"
   ],
   "metadata": {
    "collapsed": false
   }
  },
  {
   "cell_type": "code",
   "execution_count": null,
   "outputs": [],
   "source": [
    "local_df = temp_vs_energy_df.query(\"`training strategy` == 'local'\")\n",
    "test_assumptions(local_df[\"temperature\"], local_df[\"energy\"])"
   ],
   "metadata": {
    "collapsed": false
   }
  },
  {
   "cell_type": "code",
   "execution_count": null,
   "outputs": [],
   "source": [
    "boxplot(\n",
    "    temp_vs_energy_df,\n",
    "    x=\"training strategy\",\n",
    "    y=\"temperature\",\n",
    "    xlabel=\"Training strategy\",\n",
    "    ylabel=\"Temperature (Celsius)\",\n",
    "    figname=\"temperature-boxplot.eps\",\n",
    ")"
   ],
   "metadata": {
    "collapsed": false
   }
  },
  {
   "cell_type": "code",
   "execution_count": null,
   "outputs": [],
   "source": [
    "boxplot(\n",
    "    temp_vs_energy_df,\n",
    "    x=\"training strategy\",\n",
    "    y=\"energy\",\n",
    "    xlabel=\"Training strategy\",\n",
    "    ylabel=\"Energy (GJ)\",\n",
    "    figname=\"energy-boxplot.eps\",\n",
    ")"
   ],
   "metadata": {
    "collapsed": false
   }
  },
  {
   "cell_type": "code",
   "execution_count": null,
   "outputs": [],
   "source": [
    "no_outliers_df = pd.concat(\n",
    "    [cloud_df.sort_values(\"energy\", ascending=True).iloc[:-1], local_df]\n",
    ")\n",
    "boxplot(\n",
    "    no_outliers_df,\n",
    "    x=\"training strategy\",\n",
    "    y=\"energy\",\n",
    "    xlabel=\"Training strategy\",\n",
    "    ylabel=\"Energy (GJ)\",\n",
    ")"
   ],
   "metadata": {
    "collapsed": false
   }
  },
  {
   "cell_type": "code",
   "execution_count": null,
   "outputs": [],
   "source": [
    "cloud_df = no_outliers_df.query(\"`training strategy` == 'cloud'\")\n",
    "test_assumptions(cloud_df[\"temperature\"], cloud_df[\"energy\"])"
   ],
   "metadata": {
    "collapsed": false
   }
  },
  {
   "cell_type": "code",
   "execution_count": null,
   "outputs": [],
   "source": [
    "local_df = no_outliers_df.query(\"`training strategy` == 'local'\")\n",
    "test_assumptions(local_df[\"temperature\"], local_df[\"energy\"])"
   ],
   "metadata": {
    "collapsed": false
   }
  },
  {
   "cell_type": "code",
   "execution_count": null,
   "outputs": [],
   "source": [
    "fig, axes = plt.subplots(1, 2, figsize=(10, 5))\n",
    "\n",
    "for i, strategy in enumerate(TRAIN_STRATEGIES):\n",
    "    data = no_outliers_df.query(\"`training strategy` == @strategy\")[\n",
    "        [\"temperature\", \"energy\"]\n",
    "    ]\n",
    "    corr = data.corr(\"spearman\")\n",
    "    print(strategy)\n",
    "    print(corr)\n",
    "    ax = sns.heatmap(corr, vmin=-1, vmax=1, annot=True, ax=axes[i], cmap=\"coolwarm\")\n",
    "    ax.set_title(f\"Training strategy: {strategy}\")\n",
    "\n",
    "if SAVE_FIGS:\n",
    "    plt.savefig(os.path.join(FIGURES_DIR, \"temperature-energy-correlation.eps\"))"
   ],
   "metadata": {
    "collapsed": false
   }
  },
  {
   "cell_type": "markdown",
   "source": [
    "##### Impact of temperature on GPU usage"
   ],
   "metadata": {
    "collapsed": false
   }
  },
  {
   "cell_type": "code",
   "execution_count": null,
   "outputs": [],
   "source": [
    "temp_vs_gpu_usage_df = pd.concat(\n",
    "    [cloud_mobilenet, cloud_nasnet, cloud_xception, local_mobilenet, local_nasnet]\n",
    ")\n",
    "\n",
    "temp_vs_gpu_usage_df[\"combinations\"] = (\n",
    "    temp_vs_gpu_usage_df[\"training strategy\"]\n",
    "    + \" \"\n",
    "    + temp_vs_gpu_usage_df[\"architecture\"]\n",
    ")"
   ],
   "metadata": {
    "collapsed": false
   }
  },
  {
   "cell_type": "code",
   "execution_count": null,
   "outputs": [],
   "source": [
    "_, axes = plt.subplots(1, 1, figsize=(5, 5))\n",
    "ax = sns.scatterplot(\n",
    "    temp_vs_gpu_usage_df, x=\"temperature\", y=\"gpu_usage\", ax=axes, hue=\"combinations\"\n",
    ")\n",
    "ax.set_title(\"Temperature vs. GPU usage\")\n",
    "ax.set_xlabel(\"Temperature (Celsius)\")\n",
    "ax.set_ylabel(\"GPU usage\")\n",
    "\n",
    "if SAVE_FIGS:\n",
    "    plt.savefig(os.path.join(FIGURES_DIR, \"temperature-gpu_usage-scatter.eps\"))"
   ],
   "metadata": {
    "collapsed": false
   }
  },
  {
   "cell_type": "code",
   "execution_count": null,
   "outputs": [],
   "source": [
    "cloud_df = temp_vs_gpu_usage_df.query(\"`training strategy` == 'cloud'\")\n",
    "test_assumptions(cloud_df[\"temperature\"], cloud_df[\"gpu_usage\"])"
   ],
   "metadata": {
    "collapsed": false
   }
  },
  {
   "cell_type": "code",
   "execution_count": null,
   "outputs": [],
   "source": [
    "local_df = temp_vs_gpu_usage_df.query(\"`training strategy` == 'local'\")\n",
    "test_assumptions(local_df[\"temperature\"], local_df[\"gpu_usage\"])"
   ],
   "metadata": {
    "collapsed": false
   }
  },
  {
   "cell_type": "code",
   "execution_count": null,
   "outputs": [],
   "source": [
    "boxplot(\n",
    "    temp_vs_gpu_usage_df,\n",
    "    x=\"training strategy\",\n",
    "    y=\"gpu_usage\",\n",
    "    xlabel=\"Training strategy\",\n",
    "    ylabel=\"GPU usage\",\n",
    "    figname=\"gpu_usage-boxplot.eps\",\n",
    ")"
   ],
   "metadata": {
    "collapsed": false
   }
  },
  {
   "cell_type": "code",
   "execution_count": null,
   "outputs": [],
   "source": [
    "fig, axes = plt.subplots(1, 2, figsize=(10, 5))\n",
    "\n",
    "for i, strategy in enumerate(TRAIN_STRATEGIES):\n",
    "    data = temp_vs_gpu_usage_df.query(\"`training strategy` == @strategy\")[\n",
    "        [\"temperature\", \"gpu_usage\"]\n",
    "    ]\n",
    "    corr = data.corr(\"spearman\")\n",
    "    print(strategy)\n",
    "    print(corr)\n",
    "    ax = sns.heatmap(corr, vmin=-1, vmax=1, annot=True, ax=axes[i], cmap=\"coolwarm\")\n",
    "    ax.set_title(f\"Training strategy: {strategy}\")\n",
    "\n",
    "if SAVE_FIGS:\n",
    "    plt.savefig(os.path.join(FIGURES_DIR, \"temperature-gpu_usage-correlation.eps\"))"
   ],
   "metadata": {
    "collapsed": false
   }
  },
  {
   "cell_type": "markdown",
   "source": [
    "##### Energy\n",
    "###### Cloud\n",
    "We proceed to check if the assumptions are met for the energy measurements.\n",
    "\n",
    "The results of the tests show that the NASNet is the only one not following a normal distribution. Moreover, we observe that the homogeneity of variance is not met in this case."
   ],
   "metadata": {
    "collapsed": false
   }
  },
  {
   "cell_type": "code",
   "execution_count": null,
   "outputs": [],
   "source": [
    "test_assumptions(\n",
    "    cloud_mobilenet.energy, cloud_nasnet_no_temp_outliers.energy, cloud_xception.energy\n",
    ")"
   ],
   "metadata": {
    "collapsed": false
   }
  },
  {
   "cell_type": "markdown",
   "source": [
    "As it occurred with the temperature, we observe some extreme outliers. In this case in the NASNet and Xception architectures."
   ],
   "metadata": {
    "collapsed": false
   }
  },
  {
   "cell_type": "code",
   "execution_count": null,
   "outputs": [],
   "source": [
    "boxplot(\n",
    "    pd.concat([cloud_mobilenet, cloud_nasnet_no_temp_outliers, cloud_xception]),\n",
    "    x=\"architecture\",\n",
    "    y=\"energy\",\n",
    "    xlabel=\"Model architecture\",\n",
    "    ylabel=\"Energy (GJ)\",\n",
    "    figname=\"cloud-energy-boxplot.eps\",\n",
    ")"
   ],
   "metadata": {
    "collapsed": false
   }
  },
  {
   "cell_type": "markdown",
   "source": [
    "We proceed to remove the outliers from the energy measurements."
   ],
   "metadata": {
    "collapsed": false
   }
  },
  {
   "cell_type": "code",
   "execution_count": null,
   "outputs": [],
   "source": [
    "cloud_xception_no_energy_outliers = cloud_xception.sort_values(by=\"energy\").iloc[:-4]\n",
    "print(\"Xception samples removed:\", 30 - cloud_xception_no_energy_outliers.shape[0])"
   ],
   "metadata": {
    "collapsed": false
   }
  },
  {
   "cell_type": "markdown",
   "source": [
    "After removing the outliers, we see how the normality assumption is met for all the architectures. However, we still do not met the homogeneity of variance assumption."
   ],
   "metadata": {
    "collapsed": false
   }
  },
  {
   "cell_type": "code",
   "execution_count": null,
   "outputs": [],
   "source": [
    "test_assumptions(\n",
    "    cloud_mobilenet.energy,\n",
    "    cloud_nasnet_no_temp_outliers.energy,\n",
    "    cloud_xception_no_energy_outliers.energy,\n",
    ")"
   ],
   "metadata": {
    "collapsed": false
   }
  },
  {
   "cell_type": "code",
   "execution_count": null,
   "outputs": [],
   "source": [
    "boxplot(\n",
    "    pd.concat(\n",
    "        [\n",
    "            cloud_mobilenet,\n",
    "            cloud_nasnet_no_temp_outliers,\n",
    "            cloud_xception_no_energy_outliers,\n",
    "        ]\n",
    "    ),\n",
    "    x=\"architecture\",\n",
    "    y=\"energy\",\n",
    "    xlabel=\"Model architecture\",\n",
    "    ylabel=\"Energy (GJ)\",\n",
    "    figname=\"cloud-energy-boxplot-noout.eps\",\n",
    ")"
   ],
   "metadata": {
    "collapsed": false
   }
  },
  {
   "cell_type": "markdown",
   "source": [
    "###### Local vs. Cloud\n",
    "For the Local vs. Cloud analysis of energy, we see that we only meet the normality assumption. Also, looking at the boxplot, we see that there are no outliers."
   ],
   "metadata": {
    "collapsed": false
   }
  },
  {
   "cell_type": "code",
   "execution_count": null,
   "outputs": [],
   "source": [
    "test_assumptions(local_nasnet.energy, cloud_nasnet_no_temp_outliers.energy)"
   ],
   "metadata": {
    "collapsed": false
   }
  },
  {
   "cell_type": "code",
   "execution_count": null,
   "outputs": [],
   "source": [
    "boxplot(\n",
    "    pd.concat([local_nasnet, cloud_nasnet_no_temp_outliers]),\n",
    "    x=\"training strategy\",\n",
    "    y=\"energy\",\n",
    "    xlabel=\"Model architecture\",\n",
    "    ylabel=\"Energy (GJ)\",\n",
    "    figname=\"local-vs-cloud-energy-boxplot.eps\",\n",
    ")"
   ],
   "metadata": {
    "collapsed": false
   }
  },
  {
   "cell_type": "markdown",
   "source": [
    "##### GPU usage\n",
    "###### Cloud\n",
    "\n",
    "For the GPU usage we observe that none of the assumptions are met in the cloud training architecture. Also, we observe the presence of outliers in the NASNet measurements."
   ],
   "metadata": {
    "collapsed": false
   }
  },
  {
   "cell_type": "code",
   "execution_count": null,
   "outputs": [],
   "source": [
    "test_assumptions(\n",
    "    cloud_mobilenet.gpu_usage,\n",
    "    cloud_nasnet_no_temp_outliers.gpu_usage,\n",
    "    cloud_xception.gpu_usage,\n",
    ")"
   ],
   "metadata": {
    "collapsed": false
   }
  },
  {
   "cell_type": "code",
   "execution_count": null,
   "outputs": [],
   "source": [
    "boxplot(\n",
    "    pd.concat([cloud_mobilenet, cloud_nasnet_no_temp_outliers, cloud_xception]),\n",
    "    x=\"architecture\",\n",
    "    y=\"gpu_usage\",\n",
    "    xlabel=\"Model architecture\",\n",
    "    ylabel=\"GPU usage\",\n",
    "    figname=\"cloud-gpu_usage-boxplot.eps\",\n",
    ")"
   ],
   "metadata": {
    "collapsed": false
   }
  },
  {
   "cell_type": "code",
   "execution_count": null,
   "outputs": [],
   "source": [
    "cloud_nasnet_no_gpu_outliers = cloud_nasnet_no_temp_outliers.sort_values(\n",
    "    by=\"gpu_usage\", ascending=True\n",
    ").iloc[:-2]\n",
    "print(\"NASNet samples removed:\", 30 - cloud_nasnet_no_gpu_outliers.shape[0])\n",
    "cloud_mobilenet_no_gpu_outliers = cloud_mobilenet.sort_values(\n",
    "    by=\"gpu_usage\", ascending=True\n",
    ").iloc[1:]\n",
    "print(\"MobileNet samples removed:\", 30 - cloud_mobilenet_no_gpu_outliers.shape[0])"
   ],
   "metadata": {
    "collapsed": false
   }
  },
  {
   "cell_type": "code",
   "execution_count": null,
   "outputs": [],
   "source": [
    "test_assumptions(\n",
    "    cloud_mobilenet_no_gpu_outliers.gpu_usage,\n",
    "    cloud_nasnet_no_gpu_outliers.gpu_usage,\n",
    "    cloud_xception.gpu_usage,\n",
    ")"
   ],
   "metadata": {
    "collapsed": false
   }
  },
  {
   "cell_type": "code",
   "execution_count": null,
   "outputs": [],
   "source": [
    "boxplot(\n",
    "    pd.concat(\n",
    "        [cloud_mobilenet_no_gpu_outliers, cloud_nasnet_no_gpu_outliers, cloud_xception]\n",
    "    ),\n",
    "    x=\"architecture\",\n",
    "    y=\"gpu_usage\",\n",
    "    xlabel=\"Model architecture\",\n",
    "    ylabel=\"GPU usage\",\n",
    ")"
   ],
   "metadata": {
    "collapsed": false
   }
  },
  {
   "cell_type": "markdown",
   "source": [
    "###### Local vs. Cloud\n",
    "\n",
    "The results on the local architecture show that we met the normality assumptions but not the equality of variances."
   ],
   "metadata": {
    "collapsed": false
   }
  },
  {
   "cell_type": "code",
   "execution_count": null,
   "outputs": [],
   "source": [
    "test_assumptions(local_nasnet.gpu_usage, cloud_nasnet_no_gpu_outliers.gpu_usage)"
   ],
   "metadata": {
    "collapsed": false
   }
  },
  {
   "cell_type": "code",
   "execution_count": null,
   "outputs": [],
   "source": [
    "fig, (ax1, ax2) = plt.subplots(1, 2, figsize=(10, 5))\n",
    "sns.boxplot(y=local_nasnet.gpu_usage, ax=ax1)\n",
    "ax1.set_ylabel(\"GPU usage\")\n",
    "ax1.set_title(\"Training strategy: Local\")\n",
    "\n",
    "sns.boxplot(y=cloud_nasnet_no_gpu_outliers.gpu_usage, ax=ax2)\n",
    "ax2.set_ylabel(\"GPU usage\")\n",
    "ax2.set_title(\"Training strategy: Cloud\")\n",
    "\n",
    "if SAVE_FIGS:\n",
    "    plt.savefig(os.path.join(FIGURES_DIR, \"cloud-local-gpu_usage-boxplot.eps\"))"
   ],
   "metadata": {
    "collapsed": false
   }
  },
  {
   "cell_type": "markdown",
   "source": [
    "##### Accuracy\n",
    "###### Cloud\n",
    "When we check the assumptions for the binary accuracy, we see that MobileNet V2 does not follow a normal distribution. Also, we reject the null hypothesis of equal variances."
   ],
   "metadata": {
    "collapsed": false
   }
  },
  {
   "cell_type": "code",
   "execution_count": null,
   "outputs": [],
   "source": [
    "test_assumptions(\n",
    "    cloud_mobilenet.accuracy, cloud_nasnet.accuracy, cloud_xception.accuracy\n",
    ")"
   ],
   "metadata": {
    "collapsed": false
   }
  },
  {
   "cell_type": "markdown",
   "source": [
    "Looking at the boxplot, we see that the MobileNet V2 architecture has some extreme outliers. Thus, we proceed to remove them."
   ],
   "metadata": {
    "collapsed": false
   }
  },
  {
   "cell_type": "code",
   "execution_count": null,
   "outputs": [],
   "source": [
    "boxplot(\n",
    "    pd.concat([cloud_mobilenet, cloud_nasnet, cloud_xception]),\n",
    "    x=\"architecture\",\n",
    "    y=\"accuracy\",\n",
    "    xlabel=\"Model architecture\",\n",
    "    ylabel=\"Binary accuracy\",\n",
    "    figname=\"cloud-accuracy-boxplot.eps\",\n",
    ")"
   ],
   "metadata": {
    "collapsed": false
   }
  },
  {
   "cell_type": "code",
   "execution_count": null,
   "outputs": [],
   "source": [
    "cloud_mobilenet_no_accuracy_outliers = cloud_mobilenet.sort_values(\n",
    "    \"accuracy\", ascending=True\n",
    ").iloc[2:]\n",
    "print(\"MobileNet samples removed:\", 30 - cloud_mobilenet_no_accuracy_outliers.shape[0])\n",
    "cloud_nasnet_no_accuracy_outliers = cloud_nasnet.sort_values(\n",
    "    \"accuracy\", ascending=True\n",
    ").iloc[1:]\n",
    "print(\"NASNet samples removed:\", 30 - cloud_nasnet_no_accuracy_outliers.shape[0])"
   ],
   "metadata": {
    "collapsed": false
   }
  },
  {
   "cell_type": "code",
   "execution_count": null,
   "outputs": [],
   "source": [
    "test_assumptions(\n",
    "    cloud_mobilenet_no_accuracy_outliers.accuracy,\n",
    "    cloud_nasnet_no_accuracy_outliers.accuracy,\n",
    "    cloud_xception.accuracy,\n",
    ")"
   ],
   "metadata": {
    "collapsed": false
   }
  },
  {
   "cell_type": "code",
   "execution_count": null,
   "outputs": [],
   "source": [
    "boxplot(\n",
    "    pd.concat(\n",
    "        [\n",
    "            cloud_mobilenet_no_accuracy_outliers,\n",
    "            cloud_nasnet_no_accuracy_outliers,\n",
    "            cloud_xception,\n",
    "        ]\n",
    "    ),\n",
    "    x=\"architecture\",\n",
    "    y=\"accuracy\",\n",
    "    xlabel=\"Model architecture\",\n",
    "    ylabel=\"Binary accuracy\",\n",
    ")"
   ],
   "metadata": {
    "collapsed": false
   }
  },
  {
   "cell_type": "markdown",
   "source": [
    "#### FLOPs vs. Energy and GPU usage"
   ],
   "metadata": {
    "collapsed": false
   }
  },
  {
   "cell_type": "code",
   "execution_count": null,
   "outputs": [],
   "source": [
    "flops_vs_energy_df = pd.concat(\n",
    "    [\n",
    "        cloud_mobilenet_no_gpu_outliers,\n",
    "        cloud_nasnet_no_temp_outliers,\n",
    "        cloud_xception_no_energy_outliers,\n",
    "        local_mobilenet,\n",
    "        local_nasnet,\n",
    "    ]\n",
    ")\n",
    "\n",
    "flops_vs_energy_df[\"combinations\"] = (\n",
    "    flops_vs_energy_df[\"training strategy\"] + \" \" + flops_vs_energy_df[\"architecture\"]\n",
    ")"
   ],
   "metadata": {
    "collapsed": false
   }
  },
  {
   "cell_type": "code",
   "execution_count": null,
   "outputs": [],
   "source": [
    "_, axes = plt.subplots(1, 2, figsize=(10, 5))\n",
    "cloud = flops_vs_energy_df.query(\"`training strategy` == 'cloud'\")\n",
    "cloud.loc[:, \"GFLOPs\"] = cloud[\"GFLOPs\"].round(3)\n",
    "ax = sns.pointplot(\n",
    "    cloud,\n",
    "    x=\"GFLOPs\",\n",
    "    y=\"energy\",\n",
    "    ax=axes[0],\n",
    "    hue=\"architecture\",\n",
    "    errorbar=(\"ci\", 95),\n",
    "    errwidth=1,\n",
    "    capsize=0.05,\n",
    ")\n",
    "ax.set_title(\"GFLOPs vs. Energy\")\n",
    "ax.set_xlabel(\"GFLOPs\")\n",
    "ax.set_ylabel(\"Energy (GJ)\")\n",
    "\n",
    "ax = sns.pointplot(\n",
    "    cloud,\n",
    "    x=\"GFLOPs\",\n",
    "    y=\"gpu_usage\",\n",
    "    ax=axes[1],\n",
    "    hue=\"architecture\",\n",
    "    errorbar=(\"ci\", 95),\n",
    "    errwidth=1,\n",
    "    capsize=0.05,\n",
    ")\n",
    "ax.set_title(\"GFLOPs vs. GPU usage\")\n",
    "ax.set_xlabel(\"GFLOPs\")\n",
    "ax.set_ylabel(\"GPU usage\")\n",
    "\n",
    "if SAVE_FIGS:\n",
    "    plt.savefig(os.path.join(FIGURES_DIR, \"flops-vs-energy-and-gpu-usage.eps\"))"
   ],
   "metadata": {
    "collapsed": false
   }
  },
  {
   "cell_type": "code",
   "execution_count": null,
   "outputs": [],
   "source": [
    "cloud_df = flops_vs_energy_df.query(\"`training strategy` == 'cloud'\")\n",
    "test_assumptions(cloud_df[\"GFLOPs\"], cloud_df[\"energy\"])"
   ],
   "metadata": {
    "collapsed": false
   }
  },
  {
   "cell_type": "code",
   "execution_count": null,
   "outputs": [],
   "source": [
    "local_df = flops_vs_energy_df.query(\"`training strategy` == 'local'\")\n",
    "test_assumptions(local_df[\"GFLOPs\"], local_df[\"energy\"])"
   ],
   "metadata": {
    "collapsed": false
   }
  },
  {
   "cell_type": "code",
   "execution_count": null,
   "outputs": [],
   "source": [
    "boxplot(\n",
    "    flops_vs_energy_df,\n",
    "    x=\"training strategy\",\n",
    "    y=\"GFLOPs\",\n",
    "    xlabel=\"Training strategy\",\n",
    "    ylabel=\"GFLOPs\",\n",
    "    figname=\"flops-boxplot.eps\",\n",
    ")"
   ],
   "metadata": {
    "collapsed": false
   }
  },
  {
   "cell_type": "code",
   "execution_count": null,
   "outputs": [],
   "source": [
    "boxplot(\n",
    "    flops_vs_energy_df,\n",
    "    x=\"training strategy\",\n",
    "    y=\"energy\",\n",
    "    xlabel=\"Training strategy\",\n",
    "    ylabel=\"Energy (GJ)\",\n",
    "    figname=\"energy-boxplot.eps\",\n",
    ")"
   ],
   "metadata": {
    "collapsed": false
   }
  },
  {
   "cell_type": "code",
   "execution_count": null,
   "outputs": [],
   "source": [
    "no_outliers_df = pd.concat(\n",
    "    [cloud_df.sort_values(\"energy\", ascending=True).iloc[:-1], local_df]\n",
    ")\n",
    "boxplot(\n",
    "    no_outliers_df,\n",
    "    x=\"training strategy\",\n",
    "    y=\"energy\",\n",
    "    xlabel=\"Training strategy\",\n",
    "    ylabel=\"Energy (GJ)\",\n",
    ")"
   ],
   "metadata": {
    "collapsed": false
   }
  },
  {
   "cell_type": "code",
   "execution_count": null,
   "outputs": [],
   "source": [
    "cloud_df = no_outliers_df.query(\"`training strategy` == 'cloud'\")\n",
    "test_assumptions(cloud_df[\"GFLOPs\"], cloud_df[\"energy\"])"
   ],
   "metadata": {
    "collapsed": false
   }
  },
  {
   "cell_type": "code",
   "execution_count": null,
   "outputs": [],
   "source": [
    "local_df = no_outliers_df.query(\"`training strategy` == 'local'\")\n",
    "test_assumptions(local_df[\"GFLOPs\"], local_df[\"energy\"])"
   ],
   "metadata": {
    "collapsed": false
   }
  },
  {
   "cell_type": "code",
   "execution_count": null,
   "outputs": [],
   "source": [
    "fig, axes = plt.subplots(1, 2, figsize=(10, 5))\n",
    "\n",
    "data = cloud_df[[\"GFLOPs\", \"energy\"]]\n",
    "corr = data.corr(\"spearman\")\n",
    "print(\"Energy\")\n",
    "print(corr)\n",
    "ax = sns.heatmap(corr, vmin=-1, vmax=1, annot=True, ax=axes[0], cmap=\"coolwarm\")\n",
    "ax.set_title(f\"FLOPs vs. Energy\")\n",
    "\n",
    "data = cloud_df[[\"GFLOPs\", \"gpu_usage\"]]\n",
    "corr = data.corr(\"spearman\")\n",
    "print(\"GPU usage\")\n",
    "print(corr)\n",
    "ax = sns.heatmap(corr, vmin=-1, vmax=1, annot=True, ax=axes[1], cmap=\"coolwarm\")\n",
    "ax.set_title(f\"FLOPs vs. GPU usage\")\n",
    "\n",
    "if SAVE_FIGS:\n",
    "    plt.savefig(os.path.join(FIGURES_DIR, \"flops-energy-gpu_usage-correlation.eps\"))"
   ],
   "metadata": {
    "collapsed": false
   }
  },
  {
   "cell_type": "markdown",
   "source": [
    "## Statistical significance analysis\n",
    "\n",
    "Remove units from column names to ease working with them."
   ],
   "metadata": {
    "collapsed": false
   }
  },
  {
   "cell_type": "markdown",
   "source": [
    "### RQ1"
   ],
   "metadata": {
    "collapsed": false
   }
  },
  {
   "cell_type": "markdown",
   "source": [
    "#### RQ1.1"
   ],
   "metadata": {
    "collapsed": false
   }
  },
  {
   "cell_type": "markdown",
   "source": [
    "##### One-Way ANOVA test"
   ],
   "metadata": {
    "collapsed": false
   }
  },
  {
   "cell_type": "code",
   "execution_count": null,
   "outputs": [],
   "source": [
    "rq11_df = pd.concat(\n",
    "    [cloud_mobilenet, cloud_nasnet_no_temp_outliers, cloud_xception_no_energy_outliers]\n",
    ")"
   ],
   "metadata": {
    "collapsed": false
   }
  },
  {
   "cell_type": "code",
   "execution_count": null,
   "outputs": [],
   "source": [
    "model = ols(\"energy ~ C(architecture)\", data=rq11_df).fit()\n",
    "aov_table = sm.stats.anova_lm(model, typ=1)\n",
    "aov_table"
   ],
   "metadata": {
    "collapsed": false
   }
  },
  {
   "cell_type": "markdown",
   "source": [
    "##### Tukey post-hoc test"
   ],
   "metadata": {
    "collapsed": false
   }
  },
  {
   "cell_type": "code",
   "execution_count": null,
   "outputs": [],
   "source": [
    "comp = mc.MultiComparison(rq11_df[\"energy\"], rq11_df[\"architecture\"])\n",
    "post_hoc_res = comp.tukeyhsd()\n",
    "post_hoc_res.summary()"
   ],
   "metadata": {
    "collapsed": false
   }
  },
  {
   "cell_type": "markdown",
   "source": [
    "##### Kruskal-Wallis test"
   ],
   "metadata": {
    "collapsed": false
   }
  },
  {
   "cell_type": "code",
   "execution_count": null,
   "outputs": [],
   "source": [
    "mobilenet_v2 = rq11_df[\"energy\"][rq11_df[\"architecture\"] == \"mobilenet_v2\"]\n",
    "nasnet_mobile = rq11_df[\"energy\"][rq11_df[\"architecture\"] == \"nasnet_mobile\"]\n",
    "xception = rq11_df[\"energy\"][rq11_df[\"architecture\"] == \"xception\"]\n",
    "stats.kruskal(mobilenet_v2, nasnet_mobile, xception)"
   ],
   "metadata": {
    "collapsed": false
   }
  },
  {
   "cell_type": "markdown",
   "source": [
    "##### Dunn's test"
   ],
   "metadata": {
    "collapsed": false
   }
  },
  {
   "cell_type": "code",
   "execution_count": null,
   "outputs": [],
   "source": [
    "data = [mobilenet_v2, nasnet_mobile, xception]\n",
    "p_values = sp.posthoc_dunn(data, p_adjust=\"bonferroni\")\n",
    "\n",
    "# Check which assumptions reject the null hypothesis.\n",
    "p_values < 0.05"
   ],
   "metadata": {
    "collapsed": false
   }
  },
  {
   "cell_type": "markdown",
   "source": [
    "#### RQ1.2"
   ],
   "metadata": {
    "collapsed": false
   }
  },
  {
   "cell_type": "markdown",
   "source": [
    "##### One-Way ANOVA test"
   ],
   "metadata": {
    "collapsed": false
   }
  },
  {
   "cell_type": "code",
   "execution_count": null,
   "outputs": [],
   "source": [
    "rq12_df = pd.concat(\n",
    "    [cloud_mobilenet_no_gpu_outliers, cloud_nasnet_no_gpu_outliers, cloud_xception]\n",
    ")"
   ],
   "metadata": {
    "collapsed": false
   }
  },
  {
   "cell_type": "code",
   "execution_count": null,
   "outputs": [],
   "source": [
    "model = ols(\"gpu_usage ~ C(architecture)\", data=rq12_df).fit()\n",
    "aov_table = sm.stats.anova_lm(model, typ=1)\n",
    "aov_table"
   ],
   "metadata": {
    "collapsed": false
   }
  },
  {
   "cell_type": "markdown",
   "source": [
    "##### Tukey post-hoc test"
   ],
   "metadata": {
    "collapsed": false
   }
  },
  {
   "cell_type": "code",
   "execution_count": null,
   "outputs": [],
   "source": [
    "comp = mc.MultiComparison(rq11_df[\"gpu_usage\"], rq11_df[\"architecture\"])\n",
    "post_hoc_res = comp.tukeyhsd()\n",
    "post_hoc_res.summary()"
   ],
   "metadata": {
    "collapsed": false
   }
  },
  {
   "cell_type": "markdown",
   "source": [
    "##### Kruskal-Wallis test"
   ],
   "metadata": {
    "collapsed": false
   }
  },
  {
   "cell_type": "code",
   "execution_count": null,
   "outputs": [],
   "source": [
    "mobilenet_v2 = rq12_df[\"gpu_usage\"][rq12_df[\"architecture\"] == \"mobilenet_v2\"]\n",
    "nasnet_mobile = rq12_df[\"gpu_usage\"][rq12_df[\"architecture\"] == \"nasnet_mobile\"]\n",
    "xception = rq12_df[\"gpu_usage\"][rq12_df[\"architecture\"] == \"xception\"]\n",
    "stats.kruskal(mobilenet_v2, nasnet_mobile, xception)"
   ],
   "metadata": {
    "collapsed": false
   }
  },
  {
   "cell_type": "markdown",
   "source": [
    "##### Dunn's test"
   ],
   "metadata": {
    "collapsed": false
   }
  },
  {
   "cell_type": "code",
   "execution_count": null,
   "outputs": [],
   "source": [
    "data = [mobilenet_v2, nasnet_mobile, xception]\n",
    "p_values = sp.posthoc_dunn(data, p_adjust=\"bonferroni\")\n",
    "\n",
    "# Check which assumptions reject the null hypothesis.\n",
    "p_values < 0.05"
   ],
   "metadata": {
    "collapsed": false
   }
  },
  {
   "cell_type": "markdown",
   "source": [
    "#### RQ1.3"
   ],
   "metadata": {
    "collapsed": false
   }
  },
  {
   "cell_type": "code",
   "execution_count": null,
   "outputs": [],
   "source": [
    "rq13_df = pd.concat(\n",
    "    [\n",
    "        cloud_mobilenet_no_accuracy_outliers,\n",
    "        cloud_nasnet_no_accuracy_outliers,\n",
    "        cloud_xception,\n",
    "    ]\n",
    ")"
   ],
   "metadata": {
    "collapsed": false
   }
  },
  {
   "cell_type": "markdown",
   "source": [
    "##### One-Way ANOVA test"
   ],
   "metadata": {
    "collapsed": false
   }
  },
  {
   "cell_type": "code",
   "execution_count": null,
   "outputs": [],
   "source": [
    "model = ols(\"accuracy ~ C(architecture)\", data=rq13_df).fit()\n",
    "aov_table = sm.stats.anova_lm(model, typ=1)\n",
    "aov_table"
   ],
   "metadata": {
    "collapsed": false
   }
  },
  {
   "cell_type": "markdown",
   "source": [
    "##### Tukey post-hoc test"
   ],
   "metadata": {
    "collapsed": false
   }
  },
  {
   "cell_type": "code",
   "execution_count": null,
   "outputs": [],
   "source": [
    "comp = mc.MultiComparison(rq13_df[\"accuracy\"], rq13_df[\"architecture\"])\n",
    "post_hoc_res = comp.tukeyhsd()\n",
    "post_hoc_res.summary()"
   ],
   "metadata": {
    "collapsed": false
   }
  },
  {
   "cell_type": "markdown",
   "source": [
    "##### Kruskal-Wallis test"
   ],
   "metadata": {
    "collapsed": false
   }
  },
  {
   "cell_type": "code",
   "execution_count": null,
   "outputs": [],
   "source": [
    "mobilenet_v2 = rq13_df[\"accuracy\"][rq13_df[\"architecture\"] == \"mobilenet_v2\"]\n",
    "nasnet_mobile = rq13_df[\"accuracy\"][rq13_df[\"architecture\"] == \"nasnet_mobile\"]\n",
    "xception = rq13_df[\"accuracy\"][rq13_df[\"architecture\"] == \"xception\"]\n",
    "stats.kruskal(mobilenet_v2, nasnet_mobile, xception)"
   ],
   "metadata": {
    "collapsed": false
   }
  },
  {
   "cell_type": "markdown",
   "source": [
    "##### Dunn's test"
   ],
   "metadata": {
    "collapsed": false
   }
  },
  {
   "cell_type": "code",
   "execution_count": null,
   "outputs": [],
   "source": [
    "data = [mobilenet_v2, nasnet_mobile, xception]\n",
    "p_values = sp.posthoc_dunn(data, p_adjust=\"bonferroni\")\n",
    "\n",
    "# Check which assumptions reject the null hypothesis.\n",
    "p_values < 0.05"
   ],
   "metadata": {
    "collapsed": false
   }
  },
  {
   "cell_type": "markdown",
   "source": [
    "### RQ2"
   ],
   "metadata": {
    "collapsed": false
   }
  },
  {
   "cell_type": "markdown",
   "source": [
    "#### RQ2.1"
   ],
   "metadata": {
    "collapsed": false
   }
  },
  {
   "cell_type": "code",
   "execution_count": null,
   "outputs": [],
   "source": [
    "rq21_df = pd.concat([local_nasnet, cloud_nasnet_no_temp_outliers])"
   ],
   "metadata": {
    "collapsed": false
   }
  },
  {
   "cell_type": "code",
   "execution_count": null,
   "outputs": [],
   "source": [
    "local = rq21_df.energy[rq21_df[\"training strategy\"] == \"local\"]\n",
    "cloud = rq21_df.energy[rq21_df[\"training strategy\"] == \"cloud\"]"
   ],
   "metadata": {
    "collapsed": false
   }
  },
  {
   "cell_type": "markdown",
   "source": [
    "##### Independent t-test"
   ],
   "metadata": {
    "collapsed": false
   }
  },
  {
   "cell_type": "code",
   "execution_count": null,
   "outputs": [],
   "source": [
    "stats.ttest_ind(local, cloud)"
   ],
   "metadata": {
    "collapsed": false
   }
  },
  {
   "cell_type": "markdown",
   "source": [
    "##### Cohen's d"
   ],
   "metadata": {
    "collapsed": false
   }
  },
  {
   "cell_type": "code",
   "execution_count": null,
   "outputs": [],
   "source": [
    "def cohend(group1, group2):\n",
    "    # calculate the size of samples\n",
    "    n1, n2 = len(group1), len(group2)\n",
    "\n",
    "    # calculate the variance of the samples\n",
    "    s1, s2 = np.var(group1, ddof=1), np.var(group2, ddof=1)\n",
    "\n",
    "    # calculate the pooled standard deviation\n",
    "    s = np.sqrt(((n1 - 1) * s1 + (n2 - 1) * s2) / (n1 + n2 - 2))\n",
    "\n",
    "    # calculate the means of the samples\n",
    "    u1, u2 = np.mean(group1), np.mean(group2)\n",
    "\n",
    "    # return effect size\n",
    "    return (u1 - u2) / s"
   ],
   "metadata": {
    "collapsed": false
   }
  },
  {
   "cell_type": "code",
   "execution_count": null,
   "outputs": [],
   "source": [
    "cohend(local, cloud)"
   ],
   "metadata": {
    "collapsed": false
   }
  },
  {
   "cell_type": "markdown",
   "source": [
    "##### Mann-Whitney U test"
   ],
   "metadata": {
    "collapsed": false
   }
  },
  {
   "cell_type": "code",
   "execution_count": null,
   "outputs": [],
   "source": [
    "stats.mannwhitneyu(local, cloud, alternative=\"two-sided\")"
   ],
   "metadata": {
    "collapsed": false
   }
  },
  {
   "cell_type": "markdown",
   "source": [
    "##### Cliff's delta"
   ],
   "metadata": {
    "collapsed": false
   }
  },
  {
   "cell_type": "code",
   "execution_count": null,
   "outputs": [],
   "source": [
    "cliffs_delta(local, cloud)"
   ],
   "metadata": {
    "collapsed": false
   }
  },
  {
   "cell_type": "markdown",
   "source": [
    "#### RQ2.2"
   ],
   "metadata": {
    "collapsed": false
   }
  },
  {
   "cell_type": "code",
   "execution_count": null,
   "outputs": [],
   "source": [
    "rq22_df = pd.concat([local_nasnet, cloud_nasnet_no_gpu_outliers])"
   ],
   "metadata": {
    "collapsed": false
   }
  },
  {
   "cell_type": "code",
   "execution_count": null,
   "outputs": [],
   "source": [
    "local = rq22_df.gpu_usage[rq22_df[\"training strategy\"] == \"local\"]\n",
    "cloud = rq22_df.gpu_usage[rq22_df[\"training strategy\"] == \"cloud\"]"
   ],
   "metadata": {
    "collapsed": false
   }
  },
  {
   "cell_type": "markdown",
   "source": [
    "##### Independent t-test"
   ],
   "metadata": {
    "collapsed": false
   }
  },
  {
   "cell_type": "code",
   "execution_count": null,
   "outputs": [],
   "source": [
    "stats.ttest_ind(local, cloud)"
   ],
   "metadata": {
    "collapsed": false
   }
  },
  {
   "cell_type": "markdown",
   "source": [
    "##### Cohen's d"
   ],
   "metadata": {
    "collapsed": false
   }
  },
  {
   "cell_type": "code",
   "execution_count": null,
   "outputs": [],
   "source": [
    "cohend(local, cloud)"
   ],
   "metadata": {
    "collapsed": false
   }
  },
  {
   "cell_type": "markdown",
   "source": [
    "##### Mann-Whitney U test"
   ],
   "metadata": {
    "collapsed": false
   }
  },
  {
   "cell_type": "code",
   "execution_count": null,
   "outputs": [],
   "source": [
    "stats.mannwhitneyu(local, cloud, alternative=\"two-sided\")"
   ],
   "metadata": {
    "collapsed": false
   }
  },
  {
   "cell_type": "markdown",
   "source": [
    "##### Cliff's delta"
   ],
   "metadata": {
    "collapsed": false
   }
  },
  {
   "cell_type": "code",
   "execution_count": null,
   "outputs": [],
   "source": [
    "cliffs_delta(local, cloud)\n"
   ],
   "metadata": {
    "collapsed": false
   }
  }
 ],
 "metadata": {
  "kernelspec": {
   "display_name": "Python 3",
   "language": "python",
   "name": "python3"
  },
  "language_info": {
   "codemirror_mode": {
    "name": "ipython",
    "version": 3
   },
   "file_extension": ".py",
   "mimetype": "text/x-python",
   "name": "python",
   "nbconvert_exporter": "python",
   "pygments_lexer": "ipython3",
   "version": "3.7.12"
  },
  "papermill": {
   "default_parameters": {},
   "duration": 528.471412,
   "end_time": "2022-11-05T15:04:13.452999",
   "environment_variables": {},
   "exception": null,
   "input_path": "__notebook__.ipynb",
   "output_path": "__notebook__.ipynb",
   "parameters": {},
   "start_time": "2022-11-05T14:55:24.981587",
   "version": "2.3.4"
  }
 },
 "nbformat": 4,
 "nbformat_minor": 5
}
